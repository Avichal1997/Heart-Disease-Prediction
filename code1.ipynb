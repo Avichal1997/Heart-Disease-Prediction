{
 "cells": [
  {
   "cell_type": "code",
   "execution_count": 19,
   "metadata": {
    "collapsed": true
   },
   "outputs": [],
   "source": [
    "import numpy as np\n",
    "import matplotlib.pyplot as plt\n",
    "%matplotlib inline\n",
    "from scipy.stats import mode\n",
    "from collections import namedtuple, Counter, defaultdict\n",
    "from math import log,ceil,sqrt\n",
    "\n",
    "from sklearn import metrics\n",
    "from math import exp,log10\n",
    "import pandas as pd\n",
    "from sklearn.metrics import confusion_matrix\n",
    "import seaborn as sns\n",
    "import csv\n",
    "from sklearn.metrics import cohen_kappa_score\n",
    "from sklearn.utils import shuffle"
   ]
  },
  {
   "cell_type": "code",
   "execution_count": 20,
   "metadata": {
    "collapsed": true
   },
   "outputs": [],
   "source": [
    "def plot_confusion_matrix(Y_actual,Y_predicted):\n",
    "    conf_matrix =  metrics.confusion_matrix(Y_actual,Y_predicted)\n",
    "    sns.heatmap(conf_matrix, annot=True,  fmt='')"
   ]
  },
  {
   "cell_type": "code",
   "execution_count": 21,
   "metadata": {
    "collapsed": true
   },
   "outputs": [],
   "source": [
    "####function to normalize the data##\n",
    "\n",
    "def norm(Z):\n",
    "    mean = np.sum(Z,axis=0)/len(Z)\n",
    "    var = []\n",
    "    for i in range(Z.shape[1]):\n",
    "        sum1 = 0\n",
    "        for j in range(Z.shape[0]):\n",
    "            sum1 += (Z[j,i] - mean[i])**2\n",
    "        var.append(1.0 *sum1/len(Z))\n",
    "\n",
    "    for i in range(Z.shape[1]):\n",
    "        for j in range(Z.shape[0]):\n",
    "            Z[j,i] = (Z[j,i] - mean[i])/sqrt(var[i])\n",
    "    \n",
    "    \n",
    "    \n",
    "            \n",
    "    return Z"
   ]
  },
  {
   "cell_type": "code",
   "execution_count": 22,
   "metadata": {
    "collapsed": true
   },
   "outputs": [],
   "source": [
    "\n",
    "def accuracy(Y,Y_hat):\n",
    "                \n",
    "    sum1 = sum([1 for i in range(len(Y)) if Y[i] == Y_hat[i]])\n",
    "    return (1.0*sum1/len(Y))*100"
   ]
  },
  {
   "cell_type": "code",
   "execution_count": 23,
   "metadata": {},
   "outputs": [
    {
     "data": {
      "image/png": "[encoded data removed]",
      "text/plain": [
       "<Figure size 432x288 with 1 Axes>"
      ]
     },
     "metadata": {},
     "output_type": "display_data"
    }
   ],
   "source": [
    "\n",
    "data_txt =open(\"processed.cleveland.data1.txt\",\"r\") \n",
    "data = data_txt.read()\n",
    "data = data.split('\\n')[:-1]\n",
    "\n",
    "\n",
    "X = []\n",
    "Y = []\n",
    "for i in data:\n",
    "    \n",
    "    x_1 = i.split(',')\n",
    "    temp=map(float,x_1)\n",
    "    x=tuple(temp)\n",
    "   \n",
    "    \n",
    "    Y.append(float(x[len(x)-1]))\n",
    "    x = x[0:len(x)-1]   \n",
    "    \n",
    "        \n",
    "    #print type(i)\n",
    "    X.append(x)\n",
    "    \n",
    "X = np.array(X)\n",
    "\n",
    "Y = np.reshape(np.array(Y),(len(Y),))\n",
    "Y[Y > 0] = 1 ###changing the lables to 0 and 1\n",
    "\n",
    "for i in range(X.shape[1]): #####imputing the missing values with mode of the feature\n",
    "    m =  mode(X[:,i])[0][0]\n",
    "    for j in range(X.shape[0]):\n",
    "        if X[j][i] == -9:\n",
    "            X[j][i] = m\n",
    "\n",
    "\n",
    "X_norm = norm(X.copy())##normalizing the data\n",
    "\n",
    "cov_matrix = np.dot(np.transpose(X_norm),X_norm)\n",
    "eigen= np.linalg.eig(cov_matrix)\n",
    "eigen_val = eigen[0]\n",
    "#print eigen_val\n",
    "eigen_vec = eigen[1]\n",
    "#print( type(eigen_vec))\n",
    "#print (eigen_vec)\n",
    "#print (eigen_vec[0])\n",
    "total_eigen_val = np.sum(eigen_val)\n",
    "sum_d = []\n",
    "for i in range(len(eigen_val)):\n",
    "    sum_d.append(1. *np.sum(eigen_val[i:])/total_eigen_val)\n",
    "width = 0.35\n",
    "plt.bar(range(len(eigen_val)),sum_d,width)\n",
    "plt.show()\n",
    "\n",
    "\n",
    "\n",
    "W = eigen_vec[:,:]\n",
    "\n",
    "Z = []\n",
    "for i in X_norm:\n",
    "    Z.append(np.dot(np.transpose(W),i))\n",
    "Z = np.array(Z)\n",
    "\n",
    "#print (\"X's shape: \", X.shape)\n",
    "#print (\"Z's shape: \", Z.shape)\n",
    "#print (\"Y's shape: \", Y.shape)\n",
    "#print(Z)"
   ]
  },
  {
   "cell_type": "code",
   "execution_count": 24,
   "metadata": {},
   "outputs": [
    {
     "data": {
      "text/html": [
       "<div>\n",
       "<style scoped>\n",
       "    .dataframe tbody tr th:only-of-type {\n",
       "        vertical-align: middle;\n",
       "    }\n",
       "\n",
       "    .dataframe tbody tr th {\n",
       "        vertical-align: top;\n",
       "    }\n",
       "\n",
       "    .dataframe thead th {\n",
       "        text-align: right;\n",
       "    }\n",
       "</style>\n",
       "<table border=\"1\" class=\"dataframe\">\n",
       "  <thead>\n",
       "    <tr style=\"text-align: right;\">\n",
       "      <th></th>\n",
       "      <th>age</th>\n",
       "      <th>sex</th>\n",
       "      <th>cp</th>\n",
       "      <th>trestbps</th>\n",
       "      <th>chol</th>\n",
       "      <th>fbs</th>\n",
       "      <th>restecg</th>\n",
       "      <th>thalach</th>\n",
       "      <th>exang</th>\n",
       "      <th>oldpeak</th>\n",
       "      <th>slope</th>\n",
       "      <th>ca</th>\n",
       "      <th>thal</th>\n",
       "    </tr>\n",
       "  </thead>\n",
       "  <tbody>\n",
       "    <tr>\n",
       "      <th>count</th>\n",
       "      <td>303.000000</td>\n",
       "      <td>303.000000</td>\n",
       "      <td>303.000000</td>\n",
       "      <td>303.000000</td>\n",
       "      <td>303.000000</td>\n",
       "      <td>303.000000</td>\n",
       "      <td>303.000000</td>\n",
       "      <td>303.000000</td>\n",
       "      <td>303.000000</td>\n",
       "      <td>303.000000</td>\n",
       "      <td>303.000000</td>\n",
       "      <td>303.000000</td>\n",
       "      <td>303.000000</td>\n",
       "    </tr>\n",
       "    <tr>\n",
       "      <th>mean</th>\n",
       "      <td>54.438944</td>\n",
       "      <td>0.679868</td>\n",
       "      <td>3.158416</td>\n",
       "      <td>131.689769</td>\n",
       "      <td>246.693069</td>\n",
       "      <td>0.148515</td>\n",
       "      <td>0.990099</td>\n",
       "      <td>149.607261</td>\n",
       "      <td>0.326733</td>\n",
       "      <td>1.039604</td>\n",
       "      <td>1.600660</td>\n",
       "      <td>0.663366</td>\n",
       "      <td>4.722772</td>\n",
       "    </tr>\n",
       "    <tr>\n",
       "      <th>std</th>\n",
       "      <td>9.038662</td>\n",
       "      <td>0.467299</td>\n",
       "      <td>0.960126</td>\n",
       "      <td>17.599748</td>\n",
       "      <td>51.776918</td>\n",
       "      <td>0.356198</td>\n",
       "      <td>0.994971</td>\n",
       "      <td>22.875003</td>\n",
       "      <td>0.469794</td>\n",
       "      <td>1.161075</td>\n",
       "      <td>0.616226</td>\n",
       "      <td>0.934375</td>\n",
       "      <td>1.938383</td>\n",
       "    </tr>\n",
       "    <tr>\n",
       "      <th>min</th>\n",
       "      <td>29.000000</td>\n",
       "      <td>0.000000</td>\n",
       "      <td>1.000000</td>\n",
       "      <td>94.000000</td>\n",
       "      <td>126.000000</td>\n",
       "      <td>0.000000</td>\n",
       "      <td>0.000000</td>\n",
       "      <td>71.000000</td>\n",
       "      <td>0.000000</td>\n",
       "      <td>0.000000</td>\n",
       "      <td>1.000000</td>\n",
       "      <td>0.000000</td>\n",
       "      <td>3.000000</td>\n",
       "    </tr>\n",
       "    <tr>\n",
       "      <th>25%</th>\n",
       "      <td>48.000000</td>\n",
       "      <td>0.000000</td>\n",
       "      <td>3.000000</td>\n",
       "      <td>120.000000</td>\n",
       "      <td>211.000000</td>\n",
       "      <td>0.000000</td>\n",
       "      <td>0.000000</td>\n",
       "      <td>133.500000</td>\n",
       "      <td>0.000000</td>\n",
       "      <td>0.000000</td>\n",
       "      <td>1.000000</td>\n",
       "      <td>0.000000</td>\n",
       "      <td>3.000000</td>\n",
       "    </tr>\n",
       "    <tr>\n",
       "      <th>50%</th>\n",
       "      <td>56.000000</td>\n",
       "      <td>1.000000</td>\n",
       "      <td>3.000000</td>\n",
       "      <td>130.000000</td>\n",
       "      <td>241.000000</td>\n",
       "      <td>0.000000</td>\n",
       "      <td>1.000000</td>\n",
       "      <td>153.000000</td>\n",
       "      <td>0.000000</td>\n",
       "      <td>0.800000</td>\n",
       "      <td>2.000000</td>\n",
       "      <td>0.000000</td>\n",
       "      <td>3.000000</td>\n",
       "    </tr>\n",
       "    <tr>\n",
       "      <th>75%</th>\n",
       "      <td>61.000000</td>\n",
       "      <td>1.000000</td>\n",
       "      <td>4.000000</td>\n",
       "      <td>140.000000</td>\n",
       "      <td>275.000000</td>\n",
       "      <td>0.000000</td>\n",
       "      <td>2.000000</td>\n",
       "      <td>166.000000</td>\n",
       "      <td>1.000000</td>\n",
       "      <td>1.600000</td>\n",
       "      <td>2.000000</td>\n",
       "      <td>1.000000</td>\n",
       "      <td>7.000000</td>\n",
       "    </tr>\n",
       "    <tr>\n",
       "      <th>max</th>\n",
       "      <td>77.000000</td>\n",
       "      <td>1.000000</td>\n",
       "      <td>4.000000</td>\n",
       "      <td>200.000000</td>\n",
       "      <td>564.000000</td>\n",
       "      <td>1.000000</td>\n",
       "      <td>2.000000</td>\n",
       "      <td>202.000000</td>\n",
       "      <td>1.000000</td>\n",
       "      <td>6.200000</td>\n",
       "      <td>3.000000</td>\n",
       "      <td>3.000000</td>\n",
       "      <td>7.000000</td>\n",
       "    </tr>\n",
       "  </tbody>\n",
       "</table>\n",
       "</div>"
      ],
      "text/plain": [
       "              age         sex          cp    trestbps        chol         fbs  \\\n",
       "count  303.000000  303.000000  303.000000  303.000000  303.000000  303.000000   \n",
       "mean    54.438944    0.679868    3.158416  131.689769  246.693069    0.148515   \n",
       "std      9.038662    0.467299    0.960126   17.599748   51.776918    0.356198   \n",
       "min     29.000000    0.000000    1.000000   94.000000  126.000000    0.000000   \n",
       "25%     48.000000    0.000000    3.000000  120.000000  211.000000    0.000000   \n",
       "50%     56.000000    1.000000    3.000000  130.000000  241.000000    0.000000   \n",
       "75%     61.000000    1.000000    4.000000  140.000000  275.000000    0.000000   \n",
       "max     77.000000    1.000000    4.000000  200.000000  564.000000    1.000000   \n",
       "\n",
       "          restecg     thalach       exang     oldpeak       slope          ca  \\\n",
       "count  303.000000  303.000000  303.000000  303.000000  303.000000  303.000000   \n",
       "mean     0.990099  149.607261    0.326733    1.039604    1.600660    0.663366   \n",
       "std      0.994971   22.875003    0.469794    1.161075    0.616226    0.934375   \n",
       "min      0.000000   71.000000    0.000000    0.000000    1.000000    0.000000   \n",
       "25%      0.000000  133.500000    0.000000    0.000000    1.000000    0.000000   \n",
       "50%      1.000000  153.000000    0.000000    0.800000    2.000000    0.000000   \n",
       "75%      2.000000  166.000000    1.000000    1.600000    2.000000    1.000000   \n",
       "max      2.000000  202.000000    1.000000    6.200000    3.000000    3.000000   \n",
       "\n",
       "             thal  \n",
       "count  303.000000  \n",
       "mean     4.722772  \n",
       "std      1.938383  \n",
       "min      3.000000  \n",
       "25%      3.000000  \n",
       "50%      3.000000  \n",
       "75%      7.000000  \n",
       "max      7.000000  "
      ]
     },
     "execution_count": 24,
     "metadata": {},
     "output_type": "execute_result"
    }
   ],
   "source": [
    "colnames = ['age', 'sex', 'cp', 'trestbps', 'chol', 'fbs','restecg', 'thalach', 'exang','oldpeak','slope','ca','thal']\n",
    "df = pd.DataFrame(data=X,columns=colnames)\n",
    "df.describe()"
   ]
  },
  {
   "cell_type": "code",
   "execution_count": 25,
   "metadata": {},
   "outputs": [
    {
     "name": "stdout",
     "output_type": "stream",
     "text": [
      "Accuracy of the CART is: 77.44360902255639\n",
      "\n",
      "             precision    recall  f1-score   support\n",
      "\n",
      "        0.0       0.81      0.77      0.79        74\n",
      "        1.0       0.73      0.78      0.75        59\n",
      "\n",
      "avg / total       0.78      0.77      0.78       133\n",
      "\n",
      "Confusion Matrix\n",
      "================\n"
     ]
    },
    {
     "data": {
      "image/png": "[encoded data removed]",
      "text/plain": [
       "<Figure size 432x288 with 2 Axes>"
      ]
     },
     "metadata": {},
     "output_type": "display_data"
    }
   ],
   "source": [
    "from sklearn import metrics\n",
    "from sklearn.tree import DecisionTreeClassifier\n",
    "\n",
    "#shuffle\n",
    "Z,Y= shuffle(Z,Y, random_state=0)\n",
    "\n",
    "# fit a CART model to the data\n",
    "model = DecisionTreeClassifier()\n",
    "model.fit(Z[:200], Y[:200])\n",
    "\n",
    "# make predictions\n",
    "Y_expect_Cart = Y[170:]\n",
    "Y_predict_Cart= model.predict(Z[170:])\n",
    "# summarize the fit of the model\n",
    "print (\"Accuracy of the CART is: %s\" %(accuracy(Y[170:],Y_predict_Cart)))\n",
    "print()\n",
    "print(metrics.classification_report(Y_expect_Cart,Y_predict_Cart))\n",
    "\n",
    "\n",
    "print (\"Confusion Matrix\")\n",
    "print (\"================\")\n",
    "plot_confusion_matrix(Y[170:],Y_predict_Cart)  "
   ]
  },
  {
   "cell_type": "code",
   "execution_count": 28,
   "metadata": {},
   "outputs": [
    {
     "name": "stdout",
     "output_type": "stream",
     "text": [
      "Accuracy of the ID3 is: 77.44360902255639\n",
      "\n",
      "             precision    recall  f1-score   support\n",
      "\n",
      "        0.0       0.53      0.50      0.51        74\n",
      "        1.0       0.41      0.44      0.43        59\n",
      "\n",
      "avg / total       0.48      0.47      0.48       133\n",
      "\n",
      "Confusion Matrix\n",
      "================\n"
     ]
    },
    {
     "data": {
      "image/png": "[encoded data removed]",
      "text/plain": [
       "<Figure size 432x288 with 2 Axes>"
      ]
     },
     "metadata": {},
     "output_type": "display_data"
    }
   ],
   "source": [
    "from id3 import Id3Estimator\n",
    "from id3 import export_graphviz\n",
    "\n",
    "#shuffle\n",
    "Z,Y= shuffle(Z,Y, random_state=0)\n",
    "\n",
    "# fit a ID3 model to the data\n",
    "estimator = Id3Estimator()\n",
    "estimator.fit(Z[:200], Y[:200])\n",
    "\n",
    "\n",
    "# make predictions\n",
    "Y_expect_ID3 = Y[170:]\n",
    "Y_predict_ID3=estimator.predict(Z[170:])\n",
    "\n",
    "# summarize the fit of the model\n",
    "\n",
    "print (\"Accuracy of the ID3 is: %s\" %(accuracy(Y[170:],Y_predict_ID3)))\n",
    "print()\n",
    "print(metrics.classification_report(Y[170:],Y_predict_Cart))\n",
    "print (\"Confusion Matrix\")\n",
    "print (\"================\")\n",
    "plot_confusion_matrix(Y[170:],Y_predict_ID3)  "
   ]
  },
  {
   "cell_type": "code",
   "execution_count": 29,
   "metadata": {},
   "outputs": [
    {
     "name": "stdout",
     "output_type": "stream",
     "text": [
      "Accuracy of the Random Forest Classifier is: 86.46616541353383\n",
      "\n",
      "             precision    recall  f1-score   support\n",
      "\n",
      "        0.0       0.89      0.86      0.87        72\n",
      "        1.0       0.84      0.87      0.85        61\n",
      "\n",
      "avg / total       0.87      0.86      0.86       133\n",
      "\n",
      "Confusion Matrix\n",
      "================\n"
     ]
    },
    {
     "data": {
      "image/png": "[encoded data removed]",
      "text/plain": [
       "<Figure size 432x288 with 2 Axes>"
      ]
     },
     "metadata": {},
     "output_type": "display_data"
    }
   ],
   "source": [
    "from sklearn.ensemble import RandomForestClassifier\n",
    "\n",
    "#shuffle\n",
    "Z,Y= shuffle(Z,Y, random_state=0)\n",
    "\n",
    "# fit a Random Forest model to the data\n",
    "rf = RandomForestClassifier(n_estimators=100, oob_score=True, random_state=123456)\n",
    "rf.fit(Z[:200], Y[:200])\n",
    "\n",
    "# make predictions\n",
    "Y_expect_RF = Y[170:]\n",
    "Y_predict_RF = rf.predict(Z[170:])\n",
    "\n",
    "\n",
    "# summarize the fit of the model\n",
    "print (\"Accuracy of the Random Forest Classifier is: %s\" %(accuracy(Y[170:],Y_predict_RF)))\n",
    "print()\n",
    "print(metrics.classification_report(Y[170:],Y_predict_RF))\n",
    "print (\"Confusion Matrix\")\n",
    "print (\"================\")\n",
    "plot_confusion_matrix(Y[170:],Y_predict_RF)  "
   ]
  },
  {
   "cell_type": "code",
   "execution_count": 30,
   "metadata": {},
   "outputs": [
    {
     "name": "stdout",
     "output_type": "stream",
     "text": [
      "Kappa Score for CART: 0.546178343949\n",
      "Kappa Score for ID3: 0.53669298653\n",
      "Kappa Score for Random Forest: 0.72813990461\n"
     ]
    }
   ],
   "source": [
    "kappa_score_CART=cohen_kappa_score(Y_expect_Cart,Y_predict_Cart)\n",
    "kappa_score_ID3=cohen_kappa_score(Y_expect_ID3,Y_predict_ID3)\n",
    "kappa_score_RF=cohen_kappa_score(Y_expect_RF,Y_predict_RF)\n",
    "print(\"Kappa Score for CART: %s\" %(kappa_score_CART))\n",
    "print(\"Kappa Score for ID3: %s\" %(kappa_score_ID3))\n",
    "print(\"Kappa Score for Random Forest: %s\" %(kappa_score_RF))"
   ]
  },
  {
   "cell_type": "code",
   "execution_count": 31,
   "metadata": {},
   "outputs": [
    {
     "name": "stdout",
     "output_type": "stream",
     "text": [
      "Mean Absolute Error For CART : 0.225563909774\n",
      "Mean Absolute Error For ID3 : 0.225563909774\n",
      "Mean Absolute Error For Random Forest : 0.135338345865\n"
     ]
    }
   ],
   "source": [
    "mean_absolute_error_CART=metrics.mean_absolute_error(Y_expect_Cart, Y_predict_Cart)\n",
    "mean_absolute_error_ID3=metrics.mean_absolute_error(Y_expect_ID3, Y_predict_ID3)\n",
    "mean_absolute_error_RF=metrics.mean_absolute_error(Y_expect_RF, Y_predict_RF)\n",
    "print(\"Mean Absolute Error For CART : %s\"%(mean_absolute_error_CART))\n",
    "print(\"Mean Absolute Error For ID3 : %s\"%(mean_absolute_error_ID3))\n",
    "print(\"Mean Absolute Error For Random Forest : %s\"%(mean_absolute_error_RF))"
   ]
  },
  {
   "cell_type": "code",
   "execution_count": 32,
   "metadata": {},
   "outputs": [
    {
     "name": "stdout",
     "output_type": "stream",
     "text": [
      "Root Mean Squared Error For CART : 0.47493569014597764\n",
      "Root Mean Squared Error For CART : 0.47493569014597764\n",
      "Root Mean Squared Error For CART : 0.3678836036909795\n"
     ]
    }
   ],
   "source": [
    "root_mean_squared_error_CART=sqrt(metrics.mean_squared_error(Y_expect_Cart, Y_predict_Cart))\n",
    "root_mean_squared_error_ID3=sqrt(metrics.mean_squared_error(Y_expect_ID3, Y_predict_ID3))\n",
    "root_mean_squared_error_RF=sqrt(metrics.mean_squared_error(Y_expect_RF, Y_predict_RF))\n",
    "print(\"Root Mean Squared Error For CART : %s\"%(root_mean_squared_error_CART))\n",
    "print(\"Root Mean Squared Error For CART : %s\"%(root_mean_squared_error_ID3))\n",
    "print(\"Root Mean Squared Error For CART : %s\"%(root_mean_squared_error_RF))"
   ]
  },
  {
   "cell_type": "code",
   "execution_count": null,
   "metadata": {
    "collapsed": true
   },
   "outputs": [],
   "source": []
  },
  {
   "cell_type": "code",
   "execution_count": null,
   "metadata": {
    "collapsed": true
   },
   "outputs": [],
   "source": []
  }
 ],
 "metadata": {
  "kernelspec": {
   "display_name": "Python 3",
   "language": "python",
   "name": "python3"
  },
  "language_info": {
   "codemirror_mode": {
    "name": "ipython",
    "version": 3
   },
   "file_extension": ".py",
   "mimetype": "text/x-python",
   "name": "python",
   "nbconvert_exporter": "python",
   "pygments_lexer": "ipython3",
   "version": "3.6.3"
  }
 },
 "nbformat": 4,
 "nbformat_minor": 2
}
